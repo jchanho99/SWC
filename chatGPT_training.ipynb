{
  "nbformat": 4,
  "nbformat_minor": 0,
  "metadata": {
    "colab": {
      "provenance": []
    },
    "kernelspec": {
      "name": "python3",
      "display_name": "Python 3"
    },
    "language_info": {
      "name": "python"
    }
  },
  "cells": [
    {
      "cell_type": "code",
      "source": [
        "pip install openai"
      ],
      "metadata": {
        "colab": {
          "base_uri": "https://localhost:8080/"
        },
        "id": "nGyBX-2iviQC",
        "outputId": "e80192bb-7a13-4c50-e2dd-480cebb43500"
      },
      "execution_count": null,
      "outputs": [
        {
          "output_type": "stream",
          "name": "stdout",
          "text": [
            "Collecting openai\n",
            "  Downloading openai-1.30.5-py3-none-any.whl (320 kB)\n",
            "\u001b[?25l     \u001b[90m━━━━━━━━━━━━━━━━━━━━━━━━━━━━━━━━━━━━━━━━\u001b[0m \u001b[32m0.0/320.7 kB\u001b[0m \u001b[31m?\u001b[0m eta \u001b[36m-:--:--\u001b[0m\r\u001b[2K     \u001b[91m━━━━━━━━━━━━━━━━━━━━━━━━━━━━\u001b[0m\u001b[90m╺\u001b[0m\u001b[90m━━━━━━━━━━━\u001b[0m \u001b[32m225.3/320.7 kB\u001b[0m \u001b[31m6.6 MB/s\u001b[0m eta \u001b[36m0:00:01\u001b[0m\r\u001b[2K     \u001b[90m━━━━━━━━━━━━━━━━━━━━━━━━━━━━━━━━━━━━━━━━\u001b[0m \u001b[32m320.7/320.7 kB\u001b[0m \u001b[31m6.3 MB/s\u001b[0m eta \u001b[36m0:00:00\u001b[0m\n",
            "\u001b[?25hRequirement already satisfied: anyio<5,>=3.5.0 in /usr/local/lib/python3.10/dist-packages (from openai) (3.7.1)\n",
            "Requirement already satisfied: distro<2,>=1.7.0 in /usr/lib/python3/dist-packages (from openai) (1.7.0)\n",
            "Collecting httpx<1,>=0.23.0 (from openai)\n",
            "  Downloading httpx-0.27.0-py3-none-any.whl (75 kB)\n",
            "\u001b[2K     \u001b[90m━━━━━━━━━━━━━━━━━━━━━━━━━━━━━━━━━━━━━━━━\u001b[0m \u001b[32m75.6/75.6 kB\u001b[0m \u001b[31m5.7 MB/s\u001b[0m eta \u001b[36m0:00:00\u001b[0m\n",
            "\u001b[?25hRequirement already satisfied: pydantic<3,>=1.9.0 in /usr/local/lib/python3.10/dist-packages (from openai) (2.7.1)\n",
            "Requirement already satisfied: sniffio in /usr/local/lib/python3.10/dist-packages (from openai) (1.3.1)\n",
            "Requirement already satisfied: tqdm>4 in /usr/local/lib/python3.10/dist-packages (from openai) (4.66.4)\n",
            "Requirement already satisfied: typing-extensions<5,>=4.7 in /usr/local/lib/python3.10/dist-packages (from openai) (4.11.0)\n",
            "Requirement already satisfied: idna>=2.8 in /usr/local/lib/python3.10/dist-packages (from anyio<5,>=3.5.0->openai) (3.7)\n",
            "Requirement already satisfied: exceptiongroup in /usr/local/lib/python3.10/dist-packages (from anyio<5,>=3.5.0->openai) (1.2.1)\n",
            "Requirement already satisfied: certifi in /usr/local/lib/python3.10/dist-packages (from httpx<1,>=0.23.0->openai) (2024.2.2)\n",
            "Collecting httpcore==1.* (from httpx<1,>=0.23.0->openai)\n",
            "  Downloading httpcore-1.0.5-py3-none-any.whl (77 kB)\n",
            "\u001b[2K     \u001b[90m━━━━━━━━━━━━━━━━━━━━━━━━━━━━━━━━━━━━━━━━\u001b[0m \u001b[32m77.9/77.9 kB\u001b[0m \u001b[31m6.2 MB/s\u001b[0m eta \u001b[36m0:00:00\u001b[0m\n",
            "\u001b[?25hCollecting h11<0.15,>=0.13 (from httpcore==1.*->httpx<1,>=0.23.0->openai)\n",
            "  Downloading h11-0.14.0-py3-none-any.whl (58 kB)\n",
            "\u001b[2K     \u001b[90m━━━━━━━━━━━━━━━━━━━━━━━━━━━━━━━━━━━━━━━━\u001b[0m \u001b[32m58.3/58.3 kB\u001b[0m \u001b[31m7.0 MB/s\u001b[0m eta \u001b[36m0:00:00\u001b[0m\n",
            "\u001b[?25hRequirement already satisfied: annotated-types>=0.4.0 in /usr/local/lib/python3.10/dist-packages (from pydantic<3,>=1.9.0->openai) (0.7.0)\n",
            "Requirement already satisfied: pydantic-core==2.18.2 in /usr/local/lib/python3.10/dist-packages (from pydantic<3,>=1.9.0->openai) (2.18.2)\n",
            "Installing collected packages: h11, httpcore, httpx, openai\n",
            "Successfully installed h11-0.14.0 httpcore-1.0.5 httpx-0.27.0 openai-1.30.5\n"
          ]
        }
      ]
    },
    {
      "cell_type": "code",
      "source": [
        "pip install openai==0.28"
      ],
      "metadata": {
        "colab": {
          "base_uri": "https://localhost:8080/"
        },
        "id": "2WBDnbEtz1vn",
        "outputId": "88050c71-cd4e-4513-e5f5-6fe3a1eb0156"
      },
      "execution_count": null,
      "outputs": [
        {
          "output_type": "stream",
          "name": "stdout",
          "text": [
            "Collecting openai==0.28\n",
            "  Downloading openai-0.28.0-py3-none-any.whl (76 kB)\n",
            "\u001b[?25l     \u001b[90m━━━━━━━━━━━━━━━━━━━━━━━━━━━━━━━━━━━━━━━━\u001b[0m \u001b[32m0.0/76.5 kB\u001b[0m \u001b[31m?\u001b[0m eta \u001b[36m-:--:--\u001b[0m\r\u001b[2K     \u001b[90m━━━━━━━━━━━━━━━━━━━━━━━━━━━━━━━━━━━━━━━━\u001b[0m \u001b[32m76.5/76.5 kB\u001b[0m \u001b[31m2.9 MB/s\u001b[0m eta \u001b[36m0:00:00\u001b[0m\n",
            "\u001b[?25hRequirement already satisfied: requests>=2.20 in /usr/local/lib/python3.10/dist-packages (from openai==0.28) (2.31.0)\n",
            "Requirement already satisfied: tqdm in /usr/local/lib/python3.10/dist-packages (from openai==0.28) (4.66.4)\n",
            "Requirement already satisfied: aiohttp in /usr/local/lib/python3.10/dist-packages (from openai==0.28) (3.9.5)\n",
            "Requirement already satisfied: charset-normalizer<4,>=2 in /usr/local/lib/python3.10/dist-packages (from requests>=2.20->openai==0.28) (3.3.2)\n",
            "Requirement already satisfied: idna<4,>=2.5 in /usr/local/lib/python3.10/dist-packages (from requests>=2.20->openai==0.28) (3.7)\n",
            "Requirement already satisfied: urllib3<3,>=1.21.1 in /usr/local/lib/python3.10/dist-packages (from requests>=2.20->openai==0.28) (2.0.7)\n",
            "Requirement already satisfied: certifi>=2017.4.17 in /usr/local/lib/python3.10/dist-packages (from requests>=2.20->openai==0.28) (2024.2.2)\n",
            "Requirement already satisfied: aiosignal>=1.1.2 in /usr/local/lib/python3.10/dist-packages (from aiohttp->openai==0.28) (1.3.1)\n",
            "Requirement already satisfied: attrs>=17.3.0 in /usr/local/lib/python3.10/dist-packages (from aiohttp->openai==0.28) (23.2.0)\n",
            "Requirement already satisfied: frozenlist>=1.1.1 in /usr/local/lib/python3.10/dist-packages (from aiohttp->openai==0.28) (1.4.1)\n",
            "Requirement already satisfied: multidict<7.0,>=4.5 in /usr/local/lib/python3.10/dist-packages (from aiohttp->openai==0.28) (6.0.5)\n",
            "Requirement already satisfied: yarl<2.0,>=1.0 in /usr/local/lib/python3.10/dist-packages (from aiohttp->openai==0.28) (1.9.4)\n",
            "Requirement already satisfied: async-timeout<5.0,>=4.0 in /usr/local/lib/python3.10/dist-packages (from aiohttp->openai==0.28) (4.0.3)\n",
            "Installing collected packages: openai\n",
            "  Attempting uninstall: openai\n",
            "    Found existing installation: openai 1.30.5\n",
            "    Uninstalling openai-1.30.5:\n",
            "      Successfully uninstalled openai-1.30.5\n",
            "Successfully installed openai-0.28.0\n"
          ]
        }
      ]
    },
    {
      "cell_type": "code",
      "source": [
        "import os\n",
        "import openai"
      ],
      "metadata": {
        "id": "jL8LvfTxvoXH"
      },
      "execution_count": null,
      "outputs": []
    },
    {
      "cell_type": "code",
      "source": [
        "instruction=\"\"\"\n",
        "SYSTEM:\n",
        "You are an AI museum curator named '미도.'미도's role is to answer questions from visitors who are curious about the exhibits they are viewing. Mido always responds kindly and politely, providing detailed answers. Responses must be based on learned information.\n",
        "Questions Mido cannot answer:\n",
        "\n",
        "Data not learned: For these questions, say, \"이 질문에는 \"국립 중앙 박물관 홈페이지를 참고해주세요.\"라고 말해세요.\"\n",
        "\n",
        "Only tasks that HELP learning, such as Only tasks that HELP learning, such as\n",
        "작품에 대한 일반 정보 제공 - Offering detailed descriptions and related information about the artworks.\n",
        "역사적 배경 설명 - Providing historical context related to the period when the artwork was created.\n",
        "작가 정보 제공 - Sharing information about the artist who created the artwork and introducing their other works.\n",
        "작품의 의미 해석 - Giving detailed explanations of the meanings and interpretations of the artworks.\n",
        "[미도의 프로필]\n",
        "나이:비밀\n",
        "전공: 예술사, 미술, 역사\n",
        "성격: 친절하고 상냥하며, 질문에 대해 자세하고 명확하게 답변하는 편\n",
        "\n",
        "미도 answers in Korean.\"\"\""
      ],
      "metadata": {
        "id": "TR4YnoN04QGE"
      },
      "execution_count": null,
      "outputs": []
    },
    {
      "cell_type": "code",
      "source": [
        "def ask_mido(question):\n",
        "    prompt_text = f\"\"\"\n",
        "    SYSTEM:\n",
        "    You are an AI museum curator named '미도.' Mido's role is to answer questions from visitors who are curious about the exhibits they are viewing. Mido always responds kindly and politely, providing detailed answers. Responses must be based on learned information.\n",
        "    Questions Mido cannot answer:\n",
        "    Data not learned: For these questions, say, \"이 질문에는 '국립 중앙 박물관 홈페이지를 참고해주세요.'라고 말해주세요.\"\n",
        "\n",
        "    Only tasks that HELP learning, such as:\n",
        "    - Offering detailed descriptions and related information about the artworks.\n",
        "    - Providing historical context related to the period when the artwork was created.\n",
        "    - Sharing information about the artist who created the artwork and introducing their other works.\n",
        "    - Giving detailed explanations of the meanings and interpretations of the artworks.\n",
        "\n",
        "    [미도의 프로필]\n",
        "    나이: 비밀\n",
        "    전공: 예술사, 미술, 역사\n",
        "    성격: 친절하고 상냥하며, 질문에 대해 자세하고 명확하게 답변하는 편\n",
        "\n",
        "    미도 answers in Korean.\n",
        "    \"\"\"\n",
        "\n",
        "    print(prompt_text)"
      ],
      "metadata": {
        "id": "o63ZSazq4N5n"
      },
      "execution_count": null,
      "outputs": []
    },
    {
      "cell_type": "code",
      "source": [
        "openai.api_key=\"your_api_key\""
      ],
      "metadata": {
        "id": "63XpCCRKvutw"
      },
      "execution_count": null,
      "outputs": []
    },
    {
      "cell_type": "code",
      "source": [
        "openai.File.create(\n",
        "    file=open(\"file_path\", \"rb\"),\n",
        "    purpose='fine-tune'\n",
        ")"
      ],
      "metadata": {
        "colab": {
          "base_uri": "https://localhost:8080/",
          "height": 358
        },
        "id": "Kb_bU7U6v7xL",
        "outputId": "6d854409-1a08-4c55-e100-1645c130f18f"
      },
      "execution_count": null,
      "outputs": [
        {
          "output_type": "error",
          "ename": "AuthenticationError",
          "evalue": "Incorrect API key provided: sk-proj-********************************************kJoM. You can find your API key at https://platform.openai.com/account/api-keys.",
          "traceback": [
            "\u001b[0;31m---------------------------------------------------------------------------\u001b[0m",
            "\u001b[0;31mAuthenticationError\u001b[0m                       Traceback (most recent call last)",
            "\u001b[0;32m<ipython-input-31-9d9f5954d07d>\u001b[0m in \u001b[0;36m<cell line: 1>\u001b[0;34m()\u001b[0m\n\u001b[0;32m----> 1\u001b[0;31m openai.File.create(\n\u001b[0m\u001b[1;32m      2\u001b[0m     \u001b[0mfile\u001b[0m\u001b[0;34m=\u001b[0m\u001b[0mopen\u001b[0m\u001b[0;34m(\u001b[0m\u001b[0;34m\"/content/drive/MyDrive/생성형ai/0604final2.jsonl\"\u001b[0m\u001b[0;34m,\u001b[0m \u001b[0;34m\"rb\"\u001b[0m\u001b[0;34m)\u001b[0m\u001b[0;34m,\u001b[0m\u001b[0;34m\u001b[0m\u001b[0;34m\u001b[0m\u001b[0m\n\u001b[1;32m      3\u001b[0m     \u001b[0mpurpose\u001b[0m\u001b[0;34m=\u001b[0m\u001b[0;34m'fine-tune'\u001b[0m\u001b[0;34m\u001b[0m\u001b[0;34m\u001b[0m\u001b[0m\n\u001b[1;32m      4\u001b[0m )\n",
            "\u001b[0;32m/usr/local/lib/python3.10/dist-packages/openai/api_resources/file.py\u001b[0m in \u001b[0;36mcreate\u001b[0;34m(cls, file, purpose, model, api_key, api_base, api_type, api_version, organization, user_provided_filename)\u001b[0m\n\u001b[1;32m     83\u001b[0m             \u001b[0muser_provided_filename\u001b[0m\u001b[0;34m,\u001b[0m\u001b[0;34m\u001b[0m\u001b[0;34m\u001b[0m\u001b[0m\n\u001b[1;32m     84\u001b[0m         )\n\u001b[0;32m---> 85\u001b[0;31m         \u001b[0mresponse\u001b[0m\u001b[0;34m,\u001b[0m \u001b[0m_\u001b[0m\u001b[0;34m,\u001b[0m \u001b[0mapi_key\u001b[0m \u001b[0;34m=\u001b[0m \u001b[0mrequestor\u001b[0m\u001b[0;34m.\u001b[0m\u001b[0mrequest\u001b[0m\u001b[0;34m(\u001b[0m\u001b[0;34m\"post\"\u001b[0m\u001b[0;34m,\u001b[0m \u001b[0murl\u001b[0m\u001b[0;34m,\u001b[0m \u001b[0mfiles\u001b[0m\u001b[0;34m=\u001b[0m\u001b[0mfiles\u001b[0m\u001b[0;34m)\u001b[0m\u001b[0;34m\u001b[0m\u001b[0;34m\u001b[0m\u001b[0m\n\u001b[0m\u001b[1;32m     86\u001b[0m         return util.convert_to_openai_object(\n\u001b[1;32m     87\u001b[0m             \u001b[0mresponse\u001b[0m\u001b[0;34m,\u001b[0m \u001b[0mapi_key\u001b[0m\u001b[0;34m,\u001b[0m \u001b[0mapi_version\u001b[0m\u001b[0;34m,\u001b[0m \u001b[0morganization\u001b[0m\u001b[0;34m\u001b[0m\u001b[0;34m\u001b[0m\u001b[0m\n",
            "\u001b[0;32m/usr/local/lib/python3.10/dist-packages/openai/api_requestor.py\u001b[0m in \u001b[0;36mrequest\u001b[0;34m(self, method, url, params, headers, files, stream, request_id, request_timeout)\u001b[0m\n\u001b[1;32m    296\u001b[0m             \u001b[0mrequest_timeout\u001b[0m\u001b[0;34m=\u001b[0m\u001b[0mrequest_timeout\u001b[0m\u001b[0;34m,\u001b[0m\u001b[0;34m\u001b[0m\u001b[0;34m\u001b[0m\u001b[0m\n\u001b[1;32m    297\u001b[0m         )\n\u001b[0;32m--> 298\u001b[0;31m         \u001b[0mresp\u001b[0m\u001b[0;34m,\u001b[0m \u001b[0mgot_stream\u001b[0m \u001b[0;34m=\u001b[0m \u001b[0mself\u001b[0m\u001b[0;34m.\u001b[0m\u001b[0m_interpret_response\u001b[0m\u001b[0;34m(\u001b[0m\u001b[0mresult\u001b[0m\u001b[0;34m,\u001b[0m \u001b[0mstream\u001b[0m\u001b[0;34m)\u001b[0m\u001b[0;34m\u001b[0m\u001b[0;34m\u001b[0m\u001b[0m\n\u001b[0m\u001b[1;32m    299\u001b[0m         \u001b[0;32mreturn\u001b[0m \u001b[0mresp\u001b[0m\u001b[0;34m,\u001b[0m \u001b[0mgot_stream\u001b[0m\u001b[0;34m,\u001b[0m \u001b[0mself\u001b[0m\u001b[0;34m.\u001b[0m\u001b[0mapi_key\u001b[0m\u001b[0;34m\u001b[0m\u001b[0;34m\u001b[0m\u001b[0m\n\u001b[1;32m    300\u001b[0m \u001b[0;34m\u001b[0m\u001b[0m\n",
            "\u001b[0;32m/usr/local/lib/python3.10/dist-packages/openai/api_requestor.py\u001b[0m in \u001b[0;36m_interpret_response\u001b[0;34m(self, result, stream)\u001b[0m\n\u001b[1;32m    698\u001b[0m         \u001b[0;32melse\u001b[0m\u001b[0;34m:\u001b[0m\u001b[0;34m\u001b[0m\u001b[0;34m\u001b[0m\u001b[0m\n\u001b[1;32m    699\u001b[0m             return (\n\u001b[0;32m--> 700\u001b[0;31m                 self._interpret_response_line(\n\u001b[0m\u001b[1;32m    701\u001b[0m                     \u001b[0mresult\u001b[0m\u001b[0;34m.\u001b[0m\u001b[0mcontent\u001b[0m\u001b[0;34m.\u001b[0m\u001b[0mdecode\u001b[0m\u001b[0;34m(\u001b[0m\u001b[0;34m\"utf-8\"\u001b[0m\u001b[0;34m)\u001b[0m\u001b[0;34m,\u001b[0m\u001b[0;34m\u001b[0m\u001b[0;34m\u001b[0m\u001b[0m\n\u001b[1;32m    702\u001b[0m                     \u001b[0mresult\u001b[0m\u001b[0;34m.\u001b[0m\u001b[0mstatus_code\u001b[0m\u001b[0;34m,\u001b[0m\u001b[0;34m\u001b[0m\u001b[0;34m\u001b[0m\u001b[0m\n",
            "\u001b[0;32m/usr/local/lib/python3.10/dist-packages/openai/api_requestor.py\u001b[0m in \u001b[0;36m_interpret_response_line\u001b[0;34m(self, rbody, rcode, rheaders, stream)\u001b[0m\n\u001b[1;32m    763\u001b[0m         \u001b[0mstream_error\u001b[0m \u001b[0;34m=\u001b[0m \u001b[0mstream\u001b[0m \u001b[0;32mand\u001b[0m \u001b[0;34m\"error\"\u001b[0m \u001b[0;32min\u001b[0m \u001b[0mresp\u001b[0m\u001b[0;34m.\u001b[0m\u001b[0mdata\u001b[0m\u001b[0;34m\u001b[0m\u001b[0;34m\u001b[0m\u001b[0m\n\u001b[1;32m    764\u001b[0m         \u001b[0;32mif\u001b[0m \u001b[0mstream_error\u001b[0m \u001b[0;32mor\u001b[0m \u001b[0;32mnot\u001b[0m \u001b[0;36m200\u001b[0m \u001b[0;34m<=\u001b[0m \u001b[0mrcode\u001b[0m \u001b[0;34m<\u001b[0m \u001b[0;36m300\u001b[0m\u001b[0;34m:\u001b[0m\u001b[0;34m\u001b[0m\u001b[0;34m\u001b[0m\u001b[0m\n\u001b[0;32m--> 765\u001b[0;31m             raise self.handle_error_response(\n\u001b[0m\u001b[1;32m    766\u001b[0m                 \u001b[0mrbody\u001b[0m\u001b[0;34m,\u001b[0m \u001b[0mrcode\u001b[0m\u001b[0;34m,\u001b[0m \u001b[0mresp\u001b[0m\u001b[0;34m.\u001b[0m\u001b[0mdata\u001b[0m\u001b[0;34m,\u001b[0m \u001b[0mrheaders\u001b[0m\u001b[0;34m,\u001b[0m \u001b[0mstream_error\u001b[0m\u001b[0;34m=\u001b[0m\u001b[0mstream_error\u001b[0m\u001b[0;34m\u001b[0m\u001b[0;34m\u001b[0m\u001b[0m\n\u001b[1;32m    767\u001b[0m             )\n",
            "\u001b[0;31mAuthenticationError\u001b[0m: Incorrect API key provided: sk-proj-********************************************kJoM. You can find your API key at https://platform.openai.com/account/api-keys."
          ]
        }
      ]
    },
    {
      "cell_type": "code",
      "source": [
        "openai.File.list()"
      ],
      "metadata": {
        "colab": {
          "base_uri": "https://localhost:8080/"
        },
        "id": "0oGJxSnAyqiP",
        "outputId": "8d0af926-ed58-4c99-ca41-96f6619dff7a"
      },
      "execution_count": null,
      "outputs": [
        {
          "output_type": "execute_result",
          "data": {
            "text/plain": [
              "<OpenAIObject list at 0x792e94407e20> JSON: {\n",
              "  \"object\": \"list\",\n",
              "  \"data\": [\n",
              "    {\n",
              "      \"object\": \"file\",\n",
              "      \"id\": \"file-O0U9giLI8BQw97DsHChoZ3Ab\",\n",
              "      \"purpose\": \"fine-tune\",\n",
              "      \"filename\": \"file\",\n",
              "      \"bytes\": 38988,\n",
              "      \"created_at\": 1717330812,\n",
              "      \"status\": \"processed\",\n",
              "      \"status_details\": null\n",
              "    },\n",
              "    {\n",
              "      \"object\": \"file\",\n",
              "      \"id\": \"file-ottsAfvoexbm7xY3ny5AKQ7i\",\n",
              "      \"purpose\": \"fine-tune\",\n",
              "      \"filename\": \"file\",\n",
              "      \"bytes\": 27386,\n",
              "      \"created_at\": 1717249376,\n",
              "      \"status\": \"processed\",\n",
              "      \"status_details\": null\n",
              "    },\n",
              "    {\n",
              "      \"object\": \"file\",\n",
              "      \"id\": \"file-AZhGlf3oito7BwV2nNiP5eHD\",\n",
              "      \"purpose\": \"fine-tune\",\n",
              "      \"filename\": \"file\",\n",
              "      \"bytes\": 27386,\n",
              "      \"created_at\": 1717135793,\n",
              "      \"status\": \"processed\",\n",
              "      \"status_details\": null\n",
              "    },\n",
              "    {\n",
              "      \"object\": \"file\",\n",
              "      \"id\": \"file-Bgz9vEMpPvWM4SYZOc2QGK2D\",\n",
              "      \"purpose\": \"fine-tune\",\n",
              "      \"filename\": \"file\",\n",
              "      \"bytes\": 53834,\n",
              "      \"created_at\": 1717135438,\n",
              "      \"status\": \"processed\",\n",
              "      \"status_details\": null\n",
              "    },\n",
              "    {\n",
              "      \"object\": \"file\",\n",
              "      \"id\": \"file-5SMiKpTBjWLPZuTIx1XUFdSI\",\n",
              "      \"purpose\": \"fine-tune-results\",\n",
              "      \"filename\": \"step_metrics.csv\",\n",
              "      \"bytes\": 8044,\n",
              "      \"created_at\": 1717134065,\n",
              "      \"status\": \"processed\",\n",
              "      \"status_details\": null\n",
              "    },\n",
              "    {\n",
              "      \"object\": \"file\",\n",
              "      \"id\": \"file-ITaekcgBWH5qVLaVbdS26LA8\",\n",
              "      \"purpose\": \"fine-tune\",\n",
              "      \"filename\": \"file\",\n",
              "      \"bytes\": 162700,\n",
              "      \"created_at\": 1717133359,\n",
              "      \"status\": \"processed\",\n",
              "      \"status_details\": null\n",
              "    },\n",
              "    {\n",
              "      \"object\": \"file\",\n",
              "      \"id\": \"file-0v2MeBiRS4JSpBhdPJL4t08p\",\n",
              "      \"purpose\": \"fine-tune\",\n",
              "      \"filename\": \"file\",\n",
              "      \"bytes\": 42355,\n",
              "      \"created_at\": 1717133079,\n",
              "      \"status\": \"processed\",\n",
              "      \"status_details\": null\n",
              "    },\n",
              "    {\n",
              "      \"object\": \"file\",\n",
              "      \"id\": \"file-tSBVeZTn41LsHIyOHVLFhT4H\",\n",
              "      \"purpose\": \"fine-tune\",\n",
              "      \"filename\": \"file\",\n",
              "      \"bytes\": 25692,\n",
              "      \"created_at\": 1717131885,\n",
              "      \"status\": \"processed\",\n",
              "      \"status_details\": null\n",
              "    },\n",
              "    {\n",
              "      \"object\": \"file\",\n",
              "      \"id\": \"file-qdGtH2x8q5N1fN8B488ityDi\",\n",
              "      \"purpose\": \"fine-tune\",\n",
              "      \"filename\": \"file\",\n",
              "      \"bytes\": 25692,\n",
              "      \"created_at\": 1717126943,\n",
              "      \"status\": \"processed\",\n",
              "      \"status_details\": null\n",
              "    },\n",
              "    {\n",
              "      \"object\": \"file\",\n",
              "      \"id\": \"file-n5y04v00bUGP0uvO9rQoMShB\",\n",
              "      \"purpose\": \"fine-tune\",\n",
              "      \"filename\": \"file\",\n",
              "      \"bytes\": 25692,\n",
              "      \"created_at\": 1717126909,\n",
              "      \"status\": \"processed\",\n",
              "      \"status_details\": null\n",
              "    },\n",
              "    {\n",
              "      \"object\": \"file\",\n",
              "      \"id\": \"file-g4uy8uxLkgC4yDt0KnhAhVU7\",\n",
              "      \"purpose\": \"fine-tune\",\n",
              "      \"filename\": \"file\",\n",
              "      \"bytes\": 25692,\n",
              "      \"created_at\": 1717126859,\n",
              "      \"status\": \"processed\",\n",
              "      \"status_details\": null\n",
              "    },\n",
              "    {\n",
              "      \"object\": \"file\",\n",
              "      \"id\": \"file-1ghmL0MN1vGnjepS7YRT8Wv3\",\n",
              "      \"purpose\": \"fine-tune\",\n",
              "      \"filename\": \"file\",\n",
              "      \"bytes\": 25692,\n",
              "      \"created_at\": 1717126603,\n",
              "      \"status\": \"processed\",\n",
              "      \"status_details\": null\n",
              "    },\n",
              "    {\n",
              "      \"object\": \"file\",\n",
              "      \"id\": \"file-XECrava6V29MQ1F7ial5h9gW\",\n",
              "      \"purpose\": \"fine-tune-results\",\n",
              "      \"filename\": \"step_metrics.csv\",\n",
              "      \"bytes\": 8068,\n",
              "      \"created_at\": 1717071121,\n",
              "      \"status\": \"processed\",\n",
              "      \"status_details\": null\n",
              "    },\n",
              "    {\n",
              "      \"object\": \"file\",\n",
              "      \"id\": \"file-nL6mBSDVSp1JCjHIvmtgYTSo\",\n",
              "      \"purpose\": \"fine-tune\",\n",
              "      \"filename\": \"file\",\n",
              "      \"bytes\": 162700,\n",
              "      \"created_at\": 1717071084,\n",
              "      \"status\": \"processed\",\n",
              "      \"status_details\": null\n",
              "    },\n",
              "    {\n",
              "      \"object\": \"file\",\n",
              "      \"id\": \"file-S2nyjSEBCDYZK9W0nrhjDdXD\",\n",
              "      \"purpose\": \"fine-tune\",\n",
              "      \"filename\": \"file\",\n",
              "      \"bytes\": 162700,\n",
              "      \"created_at\": 1717070456,\n",
              "      \"status\": \"processed\",\n",
              "      \"status_details\": null\n",
              "    },\n",
              "    {\n",
              "      \"object\": \"file\",\n",
              "      \"id\": \"file-na9hNcEqz9VY3OBK4GjI6c7I\",\n",
              "      \"purpose\": \"fine-tune-results\",\n",
              "      \"filename\": \"step_metrics.csv\",\n",
              "      \"bytes\": 7640,\n",
              "      \"created_at\": 1717067269,\n",
              "      \"status\": \"processed\",\n",
              "      \"status_details\": null\n",
              "    },\n",
              "    {\n",
              "      \"object\": \"file\",\n",
              "      \"id\": \"file-7z0BiD3iSYyVOisWEIBa5Pej\",\n",
              "      \"purpose\": \"fine-tune\",\n",
              "      \"filename\": \"file\",\n",
              "      \"bytes\": 139830,\n",
              "      \"created_at\": 1717066636,\n",
              "      \"status\": \"processed\",\n",
              "      \"status_details\": null\n",
              "    },\n",
              "    {\n",
              "      \"object\": \"file\",\n",
              "      \"id\": \"file-8f0Pp53vXgja5I6Lyoh6FvVN\",\n",
              "      \"purpose\": \"fine-tune-results\",\n",
              "      \"filename\": \"step_metrics.csv\",\n",
              "      \"bytes\": 2404,\n",
              "      \"created_at\": 1717002749,\n",
              "      \"status\": \"processed\",\n",
              "      \"status_details\": null\n",
              "    },\n",
              "    {\n",
              "      \"object\": \"file\",\n",
              "      \"id\": \"file-xmfl3MhwDlnmb94zieEOnOpO\",\n",
              "      \"purpose\": \"fine-tune\",\n",
              "      \"filename\": \"file\",\n",
              "      \"bytes\": 6741,\n",
              "      \"created_at\": 1717002451,\n",
              "      \"status\": \"processed\",\n",
              "      \"status_details\": null\n",
              "    },\n",
              "    {\n",
              "      \"object\": \"file\",\n",
              "      \"id\": \"file-WoZAzP7vbeYZyvSg3hxGZfyW\",\n",
              "      \"purpose\": \"fine-tune-results\",\n",
              "      \"filename\": \"step_metrics.csv\",\n",
              "      \"bytes\": 2376,\n",
              "      \"created_at\": 1717000521,\n",
              "      \"status\": \"processed\",\n",
              "      \"status_details\": null\n",
              "    },\n",
              "    {\n",
              "      \"object\": \"file\",\n",
              "      \"id\": \"file-UGMhqg7lUG3dPqu1H1BXomXb\",\n",
              "      \"purpose\": \"fine-tune\",\n",
              "      \"filename\": \"file\",\n",
              "      \"bytes\": 9510,\n",
              "      \"created_at\": 1717000124,\n",
              "      \"status\": \"processed\",\n",
              "      \"status_details\": null\n",
              "    }\n",
              "  ],\n",
              "  \"has_more\": false\n",
              "}"
            ]
          },
          "metadata": {},
          "execution_count": 15
        }
      ]
    },
    {
      "cell_type": "code",
      "source": [
        "openai.FineTuningJob.create(training_file=\"file_id\",model=\"gpt-3.5-turbo\")"
      ],
      "metadata": {
        "colab": {
          "base_uri": "https://localhost:8080/",
          "height": 302
        },
        "id": "1-ZWLIsq0AuV",
        "outputId": "ce079dce-cb2d-4109-82db-c01f98a72f24"
      },
      "execution_count": null,
      "outputs": [
        {
          "output_type": "error",
          "ename": "InvalidRequestError",
          "evalue": "file-7lBK3psgNLUq7DYpMratewzw does not exist",
          "traceback": [
            "\u001b[0;31m---------------------------------------------------------------------------\u001b[0m",
            "\u001b[0;31mInvalidRequestError\u001b[0m                       Traceback (most recent call last)",
            "\u001b[0;32m<ipython-input-22-b20bdf160ca2>\u001b[0m in \u001b[0;36m<cell line: 1>\u001b[0;34m()\u001b[0m\n\u001b[0;32m----> 1\u001b[0;31m \u001b[0mopenai\u001b[0m\u001b[0;34m.\u001b[0m\u001b[0mFineTuningJob\u001b[0m\u001b[0;34m.\u001b[0m\u001b[0mcreate\u001b[0m\u001b[0;34m(\u001b[0m\u001b[0mtraining_file\u001b[0m\u001b[0;34m=\u001b[0m\u001b[0;34m\"file-7lBK3psgNLUq7DYpMratewzw\"\u001b[0m\u001b[0;34m,\u001b[0m\u001b[0mmodel\u001b[0m\u001b[0;34m=\u001b[0m\u001b[0;34m\"gpt-3.5-turbo\"\u001b[0m\u001b[0;34m)\u001b[0m\u001b[0;34m\u001b[0m\u001b[0;34m\u001b[0m\u001b[0m\n\u001b[0m",
            "\u001b[0;32m/usr/local/lib/python3.10/dist-packages/openai/api_resources/abstract/createable_api_resource.py\u001b[0m in \u001b[0;36mcreate\u001b[0;34m(cls, api_key, api_base, api_type, request_id, api_version, organization, **params)\u001b[0m\n\u001b[1;32m     55\u001b[0m         )\n\u001b[1;32m     56\u001b[0m \u001b[0;34m\u001b[0m\u001b[0m\n\u001b[0;32m---> 57\u001b[0;31m         response, _, api_key = requestor.request(\n\u001b[0m\u001b[1;32m     58\u001b[0m             \u001b[0;34m\"post\"\u001b[0m\u001b[0;34m,\u001b[0m \u001b[0murl\u001b[0m\u001b[0;34m,\u001b[0m \u001b[0mparams\u001b[0m\u001b[0;34m,\u001b[0m \u001b[0mrequest_id\u001b[0m\u001b[0;34m=\u001b[0m\u001b[0mrequest_id\u001b[0m\u001b[0;34m\u001b[0m\u001b[0;34m\u001b[0m\u001b[0m\n\u001b[1;32m     59\u001b[0m         )\n",
            "\u001b[0;32m/usr/local/lib/python3.10/dist-packages/openai/api_requestor.py\u001b[0m in \u001b[0;36mrequest\u001b[0;34m(self, method, url, params, headers, files, stream, request_id, request_timeout)\u001b[0m\n\u001b[1;32m    296\u001b[0m             \u001b[0mrequest_timeout\u001b[0m\u001b[0;34m=\u001b[0m\u001b[0mrequest_timeout\u001b[0m\u001b[0;34m,\u001b[0m\u001b[0;34m\u001b[0m\u001b[0;34m\u001b[0m\u001b[0m\n\u001b[1;32m    297\u001b[0m         )\n\u001b[0;32m--> 298\u001b[0;31m         \u001b[0mresp\u001b[0m\u001b[0;34m,\u001b[0m \u001b[0mgot_stream\u001b[0m \u001b[0;34m=\u001b[0m \u001b[0mself\u001b[0m\u001b[0;34m.\u001b[0m\u001b[0m_interpret_response\u001b[0m\u001b[0;34m(\u001b[0m\u001b[0mresult\u001b[0m\u001b[0;34m,\u001b[0m \u001b[0mstream\u001b[0m\u001b[0;34m)\u001b[0m\u001b[0;34m\u001b[0m\u001b[0;34m\u001b[0m\u001b[0m\n\u001b[0m\u001b[1;32m    299\u001b[0m         \u001b[0;32mreturn\u001b[0m \u001b[0mresp\u001b[0m\u001b[0;34m,\u001b[0m \u001b[0mgot_stream\u001b[0m\u001b[0;34m,\u001b[0m \u001b[0mself\u001b[0m\u001b[0;34m.\u001b[0m\u001b[0mapi_key\u001b[0m\u001b[0;34m\u001b[0m\u001b[0;34m\u001b[0m\u001b[0m\n\u001b[1;32m    300\u001b[0m \u001b[0;34m\u001b[0m\u001b[0m\n",
            "\u001b[0;32m/usr/local/lib/python3.10/dist-packages/openai/api_requestor.py\u001b[0m in \u001b[0;36m_interpret_response\u001b[0;34m(self, result, stream)\u001b[0m\n\u001b[1;32m    698\u001b[0m         \u001b[0;32melse\u001b[0m\u001b[0;34m:\u001b[0m\u001b[0;34m\u001b[0m\u001b[0;34m\u001b[0m\u001b[0m\n\u001b[1;32m    699\u001b[0m             return (\n\u001b[0;32m--> 700\u001b[0;31m                 self._interpret_response_line(\n\u001b[0m\u001b[1;32m    701\u001b[0m                     \u001b[0mresult\u001b[0m\u001b[0;34m.\u001b[0m\u001b[0mcontent\u001b[0m\u001b[0;34m.\u001b[0m\u001b[0mdecode\u001b[0m\u001b[0;34m(\u001b[0m\u001b[0;34m\"utf-8\"\u001b[0m\u001b[0;34m)\u001b[0m\u001b[0;34m,\u001b[0m\u001b[0;34m\u001b[0m\u001b[0;34m\u001b[0m\u001b[0m\n\u001b[1;32m    702\u001b[0m                     \u001b[0mresult\u001b[0m\u001b[0;34m.\u001b[0m\u001b[0mstatus_code\u001b[0m\u001b[0;34m,\u001b[0m\u001b[0;34m\u001b[0m\u001b[0;34m\u001b[0m\u001b[0m\n",
            "\u001b[0;32m/usr/local/lib/python3.10/dist-packages/openai/api_requestor.py\u001b[0m in \u001b[0;36m_interpret_response_line\u001b[0;34m(self, rbody, rcode, rheaders, stream)\u001b[0m\n\u001b[1;32m    763\u001b[0m         \u001b[0mstream_error\u001b[0m \u001b[0;34m=\u001b[0m \u001b[0mstream\u001b[0m \u001b[0;32mand\u001b[0m \u001b[0;34m\"error\"\u001b[0m \u001b[0;32min\u001b[0m \u001b[0mresp\u001b[0m\u001b[0;34m.\u001b[0m\u001b[0mdata\u001b[0m\u001b[0;34m\u001b[0m\u001b[0;34m\u001b[0m\u001b[0m\n\u001b[1;32m    764\u001b[0m         \u001b[0;32mif\u001b[0m \u001b[0mstream_error\u001b[0m \u001b[0;32mor\u001b[0m \u001b[0;32mnot\u001b[0m \u001b[0;36m200\u001b[0m \u001b[0;34m<=\u001b[0m \u001b[0mrcode\u001b[0m \u001b[0;34m<\u001b[0m \u001b[0;36m300\u001b[0m\u001b[0;34m:\u001b[0m\u001b[0;34m\u001b[0m\u001b[0;34m\u001b[0m\u001b[0m\n\u001b[0;32m--> 765\u001b[0;31m             raise self.handle_error_response(\n\u001b[0m\u001b[1;32m    766\u001b[0m                 \u001b[0mrbody\u001b[0m\u001b[0;34m,\u001b[0m \u001b[0mrcode\u001b[0m\u001b[0;34m,\u001b[0m \u001b[0mresp\u001b[0m\u001b[0;34m.\u001b[0m\u001b[0mdata\u001b[0m\u001b[0;34m,\u001b[0m \u001b[0mrheaders\u001b[0m\u001b[0;34m,\u001b[0m \u001b[0mstream_error\u001b[0m\u001b[0;34m=\u001b[0m\u001b[0mstream_error\u001b[0m\u001b[0;34m\u001b[0m\u001b[0;34m\u001b[0m\u001b[0m\n\u001b[1;32m    767\u001b[0m             )\n",
            "\u001b[0;31mInvalidRequestError\u001b[0m: file-7lBK3psgNLUq7DYpMratewzw does not exist"
          ]
        }
      ]
    }
  ]
}